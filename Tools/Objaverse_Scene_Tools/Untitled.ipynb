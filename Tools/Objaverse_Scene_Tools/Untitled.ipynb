{
 "cells": [
  {
   "cell_type": "code",
   "execution_count": 1,
   "id": "75362249-d2e7-4297-b90e-4478f6805027",
   "metadata": {},
   "outputs": [
    {
     "data": {
      "text/plain": [
       "['f82039689f504922995936c68484aa61',\n",
       " 'fb42332b3f5e491cb0c4b5ba7ed6f374',\n",
       " 'd633b522306b4499a8e6f1ac5f517864',\n",
       " '89da97b84f4d4fbc825bf3e914d45e92',\n",
       " '32aaba5aa1954cb898111bf884404039',\n",
       " 'f84c8cbd56d94be18a727c66de2c2d51',\n",
       " '6afcf8814d494372a4f3f7e3b99219ba',\n",
       " '38cb6584bb734d729baf712da41b141f',\n",
       " 'f9b8b1cea04243a7bf706c4565027187',\n",
       " '306aa51bb3c24464886dce788547e6cb']"
      ]
     },
     "execution_count": 1,
     "metadata": {},
     "output_type": "execute_result"
    }
   ],
   "source": [
    "import objaverse\n",
    "objaverse.__version__\n",
    "\n",
    "uids = objaverse.load_uids()\n",
    "\n",
    "annotations = objaverse.load_annotations(uids[:10])\n",
    "annotations[uids[0]]\n",
    "\n",
    "import multiprocessing\n",
    "processes = multiprocessing.cpu_count()\n",
    "processes\n",
    "\n",
    "import random\n",
    "\n",
    "random.seed(42)\n",
    "\n",
    "uids = objaverse.load_uids()\n",
    "random_object_uids = random.sample(uids, 10)\n",
    "\n",
    "random_object_uids"
   ]
  },
  {
   "cell_type": "code",
   "execution_count": 2,
   "id": "8ca9001c-da03-4a7e-a197-54783a2ba277",
   "metadata": {},
   "outputs": [
    {
     "name": "stdout",
     "output_type": "stream",
     "text": [
      "starting download of 10 objects with 8 processes\n"
     ]
    },
    {
     "data": {
      "text/plain": [
       "{'f82039689f504922995936c68484aa61': 'C:\\\\Users\\\\gabri\\\\.objaverse\\\\hf-objaverse-v1\\\\glbs/000-120/f82039689f504922995936c68484aa61.glb',\n",
       " 'fb42332b3f5e491cb0c4b5ba7ed6f374': 'C:\\\\Users\\\\gabri\\\\.objaverse\\\\hf-objaverse-v1\\\\glbs/000-003/fb42332b3f5e491cb0c4b5ba7ed6f374.glb',\n",
       " 'd633b522306b4499a8e6f1ac5f517864': 'C:\\\\Users\\\\gabri\\\\.objaverse\\\\hf-objaverse-v1\\\\glbs/000-011/d633b522306b4499a8e6f1ac5f517864.glb',\n",
       " '89da97b84f4d4fbc825bf3e914d45e92': 'C:\\\\Users\\\\gabri\\\\.objaverse\\\\hf-objaverse-v1\\\\glbs/000-143/89da97b84f4d4fbc825bf3e914d45e92.glb',\n",
       " '32aaba5aa1954cb898111bf884404039': 'C:\\\\Users\\\\gabri\\\\.objaverse\\\\hf-objaverse-v1\\\\glbs/000-136/32aaba5aa1954cb898111bf884404039.glb',\n",
       " 'f84c8cbd56d94be18a727c66de2c2d51': 'C:\\\\Users\\\\gabri\\\\.objaverse\\\\hf-objaverse-v1\\\\glbs/000-110/f84c8cbd56d94be18a727c66de2c2d51.glb',\n",
       " '6afcf8814d494372a4f3f7e3b99219ba': 'C:\\\\Users\\\\gabri\\\\.objaverse\\\\hf-objaverse-v1\\\\glbs/000-068/6afcf8814d494372a4f3f7e3b99219ba.glb',\n",
       " '38cb6584bb734d729baf712da41b141f': 'C:\\\\Users\\\\gabri\\\\.objaverse\\\\hf-objaverse-v1\\\\glbs/000-067/38cb6584bb734d729baf712da41b141f.glb',\n",
       " 'f9b8b1cea04243a7bf706c4565027187': 'C:\\\\Users\\\\gabri\\\\.objaverse\\\\hf-objaverse-v1\\\\glbs/000-144/f9b8b1cea04243a7bf706c4565027187.glb',\n",
       " '306aa51bb3c24464886dce788547e6cb': 'C:\\\\Users\\\\gabri\\\\.objaverse\\\\hf-objaverse-v1\\\\glbs/000-138/306aa51bb3c24464886dce788547e6cb.glb'}"
      ]
     },
     "execution_count": 2,
     "metadata": {},
     "output_type": "execute_result"
    }
   ],
   "source": [
    "objects = objaverse.load_objects(\n",
    "    uids=random_object_uids,\n",
    "    download_processes=processes\n",
    ")\n",
    "objects"
   ]
  },
  {
   "cell_type": "code",
   "execution_count": null,
   "id": "e57cc92b-5df2-4c2b-88ee-38fccc0f230b",
   "metadata": {},
   "outputs": [],
   "source": []
  }
 ],
 "metadata": {
  "kernelspec": {
   "display_name": "Python 3 (ipykernel)",
   "language": "python",
   "name": "python3"
  },
  "language_info": {
   "codemirror_mode": {
    "name": "ipython",
    "version": 3
   },
   "file_extension": ".py",
   "mimetype": "text/x-python",
   "name": "python",
   "nbconvert_exporter": "python",
   "pygments_lexer": "ipython3",
   "version": "3.10.4"
  }
 },
 "nbformat": 4,
 "nbformat_minor": 5
}
